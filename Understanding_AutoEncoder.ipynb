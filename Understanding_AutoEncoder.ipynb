{
  "nbformat": 4,
  "nbformat_minor": 0,
  "metadata": {
    "colab": {
      "provenance": [],
      "toc_visible": true,
      "include_colab_link": true
    },
    "kernelspec": {
      "name": "python3",
      "display_name": "Python 3"
    },
    "language_info": {
      "name": "python"
    }
  },
  "cells": [
    {
      "cell_type": "markdown",
      "metadata": {
        "id": "view-in-github",
        "colab_type": "text"
      },
      "source": [
        "<a href=\"https://colab.research.google.com/github/prasath1196/Deep-Learning-AI-Mini-Projects/blob/main/Understanding_AutoEncoder.ipynb\" target=\"_parent\"><img src=\"https://colab.research.google.com/assets/colab-badge.svg\" alt=\"Open In Colab\"/></a>"
      ]
    },
    {
      "cell_type": "code",
      "source": [
        "import tensorflow as tf\n",
        "from tf_keras import layers, models\n",
        "import numpy as np\n",
        "import matplotlib.pyplot as plt\n"
      ],
      "metadata": {
        "id": "1_IzCbwWVI_9"
      },
      "execution_count": 19,
      "outputs": []
    },
    {
      "cell_type": "code",
      "source": [
        "(x_train, _), (x_test, _) = tf.keras.datasets.mnist.load_data()\n",
        "\n",
        "# Normalising pixel values to 0 -> 1\n",
        "x_train = x_train/255.0\n",
        "x_test = x_test/255.0"
      ],
      "metadata": {
        "id": "vgeNK8ZubvEk"
      },
      "execution_count": 20,
      "outputs": []
    },
    {
      "cell_type": "code",
      "source": [
        "# We are adding channels. The channel tells the neural network\n",
        "#how many values are stored at each pixel location. For grayscale images,\n",
        "#each pixel has 1 value (intensity). For RGB images, each pixel has 3 values\n",
        "#(Red, Green, Blue) — that’s the 3 channels.”\n",
        "\n",
        "x_train =np.expand_dims(x_train, axis=-1)\n",
        "x_test = np.expand_dims(x_test, axis=-1)\n"
      ],
      "metadata": {
        "id": "sdsu8gOw-deP"
      },
      "execution_count": 22,
      "outputs": []
    },
    {
      "cell_type": "markdown",
      "source": [
        "## Building Encoder\n",
        "\n",
        "### **models.sequential means the following:**\n",
        "#### **models** comes from the Keras library — it gives you tools to build, train, and run neural networks.\n",
        "\n",
        "#### **Sequential** is one of the simplest ways to build a neural network in Keras — it says:\n",
        "\n",
        "#### “I’m stacking layers in a straight line, like pancakes — no branches, no loops, just vibes.”\n",
        "\n",
        "### This says, hey input is going to be of this shape\n",
        "#### **layers.InputLayer(input_shape=(28,28,1))**\n",
        "\n",
        "\n",
        "\n",
        "\n",
        "###  Shrinks spatial size while increasing depth; each pixel now holds a 64D feature vector capturing rich patterns\n",
        "\n",
        "####  Conv2D(32, 3x3, stride=2, padding='same') → input (28x28x1) → output (14x14x32)\n",
        "####  Conv2D(64, 3x3, stride=2, padding='same') → input (14x14x32) → output (7x7x64)\n",
        "\n",
        "### Flatten (7x7x64) feature map into 1D vector (3136,) to feed into Dense layers\n",
        "\n",
        "\n",
        "### Dense layer reduces 3136D flattened vector to 64D using ReLU — compresses feature info for encoding\n",
        "\n",
        "\n"
      ],
      "metadata": {
        "id": "2_nKCgdK9ggp"
      }
    },
    {
      "cell_type": "code",
      "source": [
        "\n",
        "encoder = models.Sequential([layers.InputLayer(input_shape=(28,28,1)),\n",
        "                             layers.Conv2D(32, (3,3), activation='relu', padding='same', strides=2),\n",
        "                             layers.Conv2D(64, (3,3), activation='relu', padding='same', strides=2),\n",
        "                             layers.Flatten(),\n",
        "                             layers.Dense(64, activation='relu')])\n",
        "\n",
        "# Conv2DTranspose expands spatial size by inserting zeros between pixels and applying learned kernels;\n",
        "# acts like reverse-conv to reconstruct higher-res output from compressed feature maps\n",
        "\n",
        "# Final Conv2D layer with sigmoid activation compresses 32 feature maps into a single (28x28x1) grayscale image;\n",
        "# sigmoid ensures output pixel values are in [0, 1] to match normalized input\n",
        "\n",
        "\n",
        "\n",
        "decoder = models.Sequential([layers.InputLayer(input_shape=(64,)),\n",
        "                             layers.Dense(7*7*64,activation='relu'),\n",
        "                             layers.Reshape((7,7,64)),\n",
        "                             layers.Conv2DTranspose(64,(3,3), activation='relu', padding='same', strides=2),\n",
        "                             layers.Conv2DTranspose(32,(3,3), activation='relu', padding='same', strides=2),\n",
        "                             layers.Conv2D(1,(3,3), activation='sigmoid', padding='same')])\n",
        "\n",
        "encoder.summary()\n",
        "decoder.summary()\n",
        "autoencoder = models.Sequential([encoder, decoder])\n",
        "\n",
        "# Each pixel is treated like a Bernoulli variable — a 0 or 1 outcome;\n",
        "# sigmoid gives the predicted probability for pixel=1,\n",
        "# binary_crossentropy compares it to true pixel value using log loss\n",
        "\n",
        "\n",
        "# Adam optimizer dynamically adjusts learning rates per weight using momentum and squared gradient history;\n",
        "# leads to faster and more stable convergence than vanilla gradient descent\n",
        "\n",
        "autoencoder.compile(loss='binary_crossentropy', optimizer='adam')\n",
        "#\n",
        "\n"
      ],
      "metadata": {
        "colab": {
          "base_uri": "https://localhost:8080/"
        },
        "id": "ugkX03nb5RLW",
        "outputId": "bd7f99aa-bb36-4a72-b581-34d19db122f6"
      },
      "execution_count": 32,
      "outputs": [
        {
          "output_type": "stream",
          "name": "stdout",
          "text": [
            "Model: \"sequential_22\"\n",
            "_________________________________________________________________\n",
            " Layer (type)                Output Shape              Param #   \n",
            "=================================================================\n",
            " conv2d_25 (Conv2D)          (None, 14, 14, 32)        320       \n",
            "                                                                 \n",
            " conv2d_26 (Conv2D)          (None, 7, 7, 64)          18496     \n",
            "                                                                 \n",
            " flatten_9 (Flatten)         (None, 3136)              0         \n",
            "                                                                 \n",
            " dense_16 (Dense)            (None, 64)                200768    \n",
            "                                                                 \n",
            "=================================================================\n",
            "Total params: 219584 (857.75 KB)\n",
            "Trainable params: 219584 (857.75 KB)\n",
            "Non-trainable params: 0 (0.00 Byte)\n",
            "_________________________________________________________________\n",
            "Model: \"sequential_23\"\n",
            "_________________________________________________________________\n",
            " Layer (type)                Output Shape              Param #   \n",
            "=================================================================\n",
            " dense_17 (Dense)            (None, 3136)              203840    \n",
            "                                                                 \n",
            " reshape_7 (Reshape)         (None, 7, 7, 64)          0         \n",
            "                                                                 \n",
            " conv2d_transpose_14 (Conv2  (None, 14, 14, 64)        36928     \n",
            " DTranspose)                                                     \n",
            "                                                                 \n",
            " conv2d_transpose_15 (Conv2  (None, 28, 28, 32)        18464     \n",
            " DTranspose)                                                     \n",
            "                                                                 \n",
            " conv2d_27 (Conv2D)          (None, 28, 28, 1)         289       \n",
            "                                                                 \n",
            "=================================================================\n",
            "Total params: 259521 (1013.75 KB)\n",
            "Trainable params: 259521 (1013.75 KB)\n",
            "Non-trainable params: 0 (0.00 Byte)\n",
            "_________________________________________________________________\n"
          ]
        }
      ]
    },
    {
      "cell_type": "code",
      "source": [
        "autoencoder.fit(x_train, x_train, epochs=2, batch_size=128, validation_data =(x_test,x_test))"
      ],
      "metadata": {
        "colab": {
          "base_uri": "https://localhost:8080/"
        },
        "id": "O9KD2-_g9eDI",
        "outputId": "9e3ee4b8-77de-4cd0-f036-84a342cb22b2"
      },
      "execution_count": 34,
      "outputs": [
        {
          "output_type": "stream",
          "name": "stdout",
          "text": [
            "Epoch 1/2\n",
            "469/469 [==============================] - 125s 262ms/step - loss: 0.1614 - val_loss: 0.0872\n",
            "Epoch 2/2\n",
            "469/469 [==============================] - 122s 260ms/step - loss: 0.0812 - val_loss: 0.0762\n"
          ]
        },
        {
          "output_type": "execute_result",
          "data": {
            "text/plain": [
              "<tf_keras.src.callbacks.History at 0x79f255871a90>"
            ]
          },
          "metadata": {},
          "execution_count": 34
        }
      ]
    },
    {
      "cell_type": "code",
      "source": [
        "decoded_images = autoencoder.predict(x_test)\n",
        "\n",
        "n = 10\n",
        "\n",
        "plt.figure(figsize=(20,4))\n",
        "\n",
        "for i in range(n):\n",
        "  ax= plt.subplot(2,n,i+1)\n",
        "  plt.imshow(x_test[i].reshape(28,28),cmap=\"gray\")\n",
        "  plt.title('Original')\n",
        "  plt.gray()\n",
        "  ax.axis('off')\n",
        "\n",
        "  ax= plt.subplot(2,n,i+1+n)\n",
        "  plt.imshow(decoded_images[i].reshape(28,28),cmap=\"gray\")\n",
        "  plt.title('Reconstructed')\n",
        "  plt.gray()\n",
        "  ax.axis('off')\n",
        "\n",
        "plt.show()"
      ],
      "metadata": {
        "colab": {
          "base_uri": "https://localhost:8080/",
          "height": 171
        },
        "id": "7cCiJh_9IwH9",
        "outputId": "3dae4d50-e1fe-48ab-f038-a4b4524a577d"
      },
      "execution_count": 36,
      "outputs": [
        {
          "output_type": "stream",
          "name": "stdout",
          "text": [
            "313/313 [==============================] - 6s 19ms/step\n"
          ]
        },
        {
          "output_type": "display_data",
          "data": {
            "text/plain": [
              "<Figure size 2000x400 with 20 Axes>"
            ],
            "image/png": "[encoded data removed]"
          },
          "metadata": {}
        }
      ]
    },
    {
      "cell_type": "markdown",
      "source": [],
      "metadata": {
        "id": "WSvM6_VuIvYw"
      }
    }
  ]
}