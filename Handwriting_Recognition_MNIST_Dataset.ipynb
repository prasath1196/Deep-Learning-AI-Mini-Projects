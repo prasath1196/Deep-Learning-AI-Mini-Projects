{
  "nbformat": 4,
  "nbformat_minor": 0,
  "metadata": {
    "colab": {
      "provenance": [],
      "authorship_tag": "ABX9TyO9VLwq0yaah0Kql7NPl56K",
      "include_colab_link": true
    },
    "kernelspec": {
      "name": "python3",
      "display_name": "Python 3"
    },
    "language_info": {
      "name": "python"
    }
  },
  "cells": [
    {
      "cell_type": "markdown",
      "metadata": {
        "id": "view-in-github",
        "colab_type": "text"
      },
      "source": [
        "<a href=\"https://colab.research.google.com/github/prasath1196/Deep-Learning-AI-Mini-Projects/blob/main/Handwriting_Recognition_MNIST_Dataset.ipynb\" target=\"_parent\"><img src=\"https://colab.research.google.com/assets/colab-badge.svg\" alt=\"Open In Colab\"/></a>"
      ]
    },
    {
      "cell_type": "code",
      "execution_count": null,
      "metadata": {
        "id": "VfPYVpQNgW9C",
        "collapsed": true
      },
      "outputs": [],
      "source": [
        "pip install tensorflow\n"
      ]
    },
    {
      "cell_type": "code",
      "source": [
        "import tensorflow as  tf\n",
        "from tensorflow.keras import  layers, models\n",
        "import numpy as np\n",
        "import matplotlib.pyplot as plt\n",
        "\n",
        "(x_train, y_train), (x_test, y_test) = tf.keras.datasets.mnist.load_data()\n",
        "\n",
        "\n",
        "plt.imshow(x_train[4], cmap='gray')\n",
        "\n",
        "# Scaling the values within 0 and 1\n",
        "x_train, x_test = x_train / 255.0, x_test /255.0\n",
        "\n",
        "\n",
        "model = models.Sequential([\n",
        "    layers.Flatten(input_shape=[28,28]),\n",
        "    layers.Dense(128, activation = \"relu\"),\n",
        "    layers.Dense(10, activation = \"softmax\")\n",
        "])\n",
        "\n",
        "model.compile(optimizer = \"adam\",\n",
        "              loss=\"sparse_categorical_crossentropy\",\n",
        "              metrics=[\"accuracy\"]\n",
        "              )\n",
        "\n",
        "history = model.fit(x_train, y_train, epochs=5)\n",
        "\n",
        "\n",
        "test_loss, test_accuracy = model.evaluate(x_test, y_test)\n",
        "\n",
        "print(f'Test Accuracy: {test_accuracy * 100:.2f}%')\n",
        "\n",
        "predictions = model.predict(x_test)\n",
        "print(predictions)\n",
        "print('Predictions Shape = ', predictions.shape)\n",
        "\n",
        "print(np.argmax(predictions[0]))\n",
        "plt.imshow(x_test[10], cmap='gray')\n",
        "plt.title(f\"True Label: {y_test[10]}, Predicted Label {np.argmax(predictions[10])}\")\n",
        "plt.show()\n",
        "\n",
        "plt.plot(history.history['loss'], label ='Training Loss')\n",
        "plt.xlabel('Epoch')\n",
        "plt.ylabel('Loss')\n",
        "plt.title('Loss vs Epochs')\n",
        "plt.show()\n",
        "\n"
      ],
      "metadata": {
        "collapsed": true,
        "id": "hR1FtmiAsVxF"
      },
      "execution_count": null,
      "outputs": []
    }
  ]
}